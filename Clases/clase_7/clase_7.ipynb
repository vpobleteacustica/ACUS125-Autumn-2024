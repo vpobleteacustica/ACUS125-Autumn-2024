{
 "cells": [
  {
   "cell_type": "code",
   "execution_count": 1,
   "metadata": {},
   "outputs": [
    {
     "data": {
      "text/html": [
       "<!-- Mejorar visualización en proyector -->\n",
       "<style>\n",
       ".rendered_html {font-size: 1.2em; line-height: 150%;}\n",
       "div.prompt {min-width: 0ex; }\n",
       ".container {width:95% !important;}\n",
       "</style>\n"
      ],
      "text/plain": [
       "<IPython.core.display.HTML object>"
      ]
     },
     "metadata": {},
     "output_type": "display_data"
    }
   ],
   "source": [
    "%%HTML\n",
    "<!-- Mejorar visualización en proyector -->\n",
    "<style>\n",
    ".rendered_html {font-size: 1.2em; line-height: 150%;}\n",
    "div.prompt {min-width: 0ex; }\n",
    ".container {width:95% !important;}\n",
    "</style>"
   ]
  },
  {
   "cell_type": "markdown",
   "metadata": {},
   "source": [
    "<h1 style=\"text-align:center\">Clase 7: Modelo de vibración de dos grados de libertad: Caso del absortor dinámico de vibraciones</h1>\n",
    "<h3 style=\"text-align:center\">ACUS125: Aislamiento y Análisis de Vibraciones</h3>\n",
    "<p style=\"text-align:center\">Dr. Víctor Poblete <br>\n",
    "<a href=\"mailto:vpoblete@uach.cl\">vpoblete@uach.cl</a><br>\n",
    "<p style=\"text-align:center\">Rafael Hayde <br>\n",
    "<a href=\"mailto:vpoblete@uach.cl\">rafael@penailillo.cl</a><br><br>\n",
    "<a href=\"https://github.com/vpobleteacustica/ACUS125-Autumn-2024\">https://github.com/vpobleteacustica/ACUS125-Autumn-2024</a><br> \n",
    "<a href=\"http://www.acusticauach.cl\">www.acusticauach.cl</a><br>\n",
    "<a href=\"http://www.aumilab.cl\">www.aumilab.cl</a><br>"
   ]
  },
  {
   "cell_type": "markdown",
   "metadata": {},
   "source": [
    "### El absortor dinámico de vibraciones\n",
    "\n",
    "+ El absortor dinámico de vibraciones también llamado amortiguador de masa afinada (tuned-mass damper) es usado ampliamente como dispositivo de control de vibraciones."
   ]
  },
  {
   "cell_type": "markdown",
   "metadata": {},
   "source": [
    "### Sistema no amortiguado, forzado armónicamente\n",
    "\n",
    "<p style=\"text-align:center\">\n",
    "\t<img src=\"sisprin.png\" alt=\"MDOF\" width=30%/></a><br>\n",
    "    <strong> Figura 1: Sistema de vibración con aisladores.</strong>\n",
    "</p>\n",
    "\n",
    "+ El clásico absortor dinámico no amortiguado, se introdujo en la literatura en 1928 por J. Ormondroyd y J.P. Den Hartog:\n",
    "\n",
    "+ Ref: Ormondroyd J. & Den Hartog, J.P. 1928 The theory of the dynamic vibration absorber. Transactions of the American Society of Mechanical Engineers, 50, A9-A22.\n",
    "\n",
    "+ https://www.acs.psu.edu/drussell/Demos/absorber/DynamicAbsorber.html\n",
    "\n",
    "+ Los autores idearon un interesante método de control de vibraciones para este sistema.\n",
    "\n",
    "+ Una fuerza armónica $f(t)$ actúa sobre un sistema principal, referido como masa $m_{1}$ y resorte $k_{1}$.\n",
    "\n",
    "+ Si ningún amortiguamiento está presente, cuando la frecuencia de la fuerza se iguala a la frecuencia natural que tiene el sistema, la respuesta crece hasta el infinito. \n",
    "\n",
    "+ Esto se llama resonancia y causa dramáticos problemas a este tipo sistemas vibratorios.\n",
    "\n",
    "+ Sin usar amortiguamiento! la respuesta en resonancia se puede reducir absorbiendo la energía creada durante la respuesta.\n",
    "\n",
    "+ La absorción de la energía se logra uniendo al sistema principal masa $m_{1}$ y resorte $k_{1},$ un absortor que consiste en una masa $m_{2}$ y en un resorte $k_{2}$:\n",
    "<p style=\"text-align:center\">\n",
    "\t<img src=\"sisprin2.png\" alt=\"MDOF\" width=30%/></a><br>\n",
    "    <strong> Figura 2: Sistema de vibración con aisladores y absortor.</strong>\n",
    "</p>\n",
    "\n",
    "+ La respuesta del absortor es finita en esta resonancia aun cuando no tenga amortiguamiento!\n",
    "+ Este hecho se debe a que **el sistema cambió** desde uno de un grado de libertad a un sistema de dos grados de libertad por lo que ahora posee **dos** frecuencias de resonancia, ninguna de las cuales es igual a la frecuencia de resonancia original del sistema principal.\n",
    "\n",
    "### Ecuación de movimiento del sistema principal (Fig. 1)\n",
    "$$\n",
    "\\begin{align*}\n",
    "m_{1}\\ddot x_{1} & = \\sum F\\\\\n",
    "m_{1}\\ddot x_{1} & = f_{1}(t) - k_{1}x_{1} \\\\\n",
    "m_{1}\\ddot x_{1} + k_{1}x_{1}& = f_{1}(t)\n",
    "\\end{align*}\n",
    "$$\n",
    "\n",
    "+ Demostrar que:\n",
    "$$\n",
    "\\begin{align*}\n",
    "\\left|H_{1}(\\omega)\\right| & = \\frac{X_{1}(\\omega)}{F_{1}(\\omega)/k_{1}} \\\\\n",
    "              & = \\frac{1}{1-\\frac{\\omega^{2}}{\\omega_{1}^{2}}}\n",
    "\\end{align*}\n",
    "$$\n",
    "\n",
    "+ donde $\\omega_{1}=\\sqrt{k_{1}/m_{1}}$ es la frecuencia natural del sistema principal. \n",
    "+ Graficar la magnitud $H_{1}(\\omega)$."
   ]
  },
  {
   "cell_type": "markdown",
   "metadata": {},
   "source": [
    "### Importo librerías"
   ]
  },
  {
   "cell_type": "code",
   "execution_count": 2,
   "metadata": {},
   "outputs": [],
   "source": [
    "import numpy as np\n",
    "%matplotlib inline\n",
    "import matplotlib.pyplot as plt\n",
    "\n",
    "from matplotlib.ticker import ScalarFormatter\n",
    "from matplotlib.ticker import EngFormatter\n",
    "from scipy.signal import find_peaks\n",
    "from matplotlib.offsetbox import AnchoredText"
   ]
  },
  {
   "cell_type": "markdown",
   "metadata": {},
   "source": [
    "### Crear un entorno para funciones"
   ]
  },
  {
   "cell_type": "code",
   "execution_count": 3,
   "metadata": {},
   "outputs": [],
   "source": [
    "# Celda de códigos para crear aquí tus propias funciones"
   ]
  },
  {
   "cell_type": "markdown",
   "metadata": {},
   "source": [
    "### Graficar $H_{1}(\\omega)$"
   ]
  },
  {
   "cell_type": "code",
   "execution_count": 4,
   "metadata": {},
   "outputs": [
    {
     "ename": "NameError",
     "evalue": "name 'create_fig' is not defined",
     "output_type": "error",
     "traceback": [
      "\u001b[0;31m---------------------------------------------------------------------------\u001b[0m",
      "\u001b[0;31mNameError\u001b[0m                                 Traceback (most recent call last)",
      "Cell \u001b[0;32mIn[4], line 9\u001b[0m\n\u001b[1;32m      5\u001b[0m w1   \u001b[38;5;241m=\u001b[39m np\u001b[38;5;241m.\u001b[39msqrt(k1\u001b[38;5;241m/\u001b[39mm1)\n\u001b[1;32m      7\u001b[0m H1   \u001b[38;5;241m=\u001b[39m \u001b[38;5;241m1\u001b[39m\u001b[38;5;241m/\u001b[39m(\u001b[38;5;241m1\u001b[39m\u001b[38;5;241m-\u001b[39m(w\u001b[38;5;241m*\u001b[39m\u001b[38;5;241m*\u001b[39m\u001b[38;5;241m2\u001b[39m\u001b[38;5;241m/\u001b[39mw1\u001b[38;5;241m*\u001b[39m\u001b[38;5;241m*\u001b[39m\u001b[38;5;241m2\u001b[39m)) \u001b[38;5;66;03m# X1(w)/(F1(w)/k1)\u001b[39;00m\n\u001b[0;32m----> 9\u001b[0m \u001b[43mcreate_fig\u001b[49m(w1,w,H1)\n",
      "\u001b[0;31mNameError\u001b[0m: name 'create_fig' is not defined"
     ]
    }
   ],
   "source": [
    "w    = np.linspace(0,100,10000)\n",
    "\n",
    "m1   = 1000\n",
    "k1   = 20000.0\n",
    "w1   = np.sqrt(k1/m1)\n",
    "\n",
    "H1   = 1/(1-(w**2/w1**2)) # X1(w)/(F1(w)/k1)\n",
    "\n",
    "create_fig(w1,w,H1)"
   ]
  },
  {
   "cell_type": "markdown",
   "metadata": {},
   "source": [
    "### Aislador y absortor dinámico no amortiguado\n",
    "\n",
    "+ Re-organicemos el sistema principal más el absortor dinámico (ver Fig. 2), como un sistema de dos grados de libertad, como se observa en la Figura 3:\n",
    "\n",
    "<p style=\"text-align:center\">\n",
    "\t<img src=\"cuerpolibre.png\" alt=\"MDOF\" width=50%/></a><br>\n",
    "    <strong> Figura 3: Sistema de vibraciones de dos grados de libertad y diagrama de cuerpo libre.</strong>\n",
    "</p>\n",
    "\n",
    "### Ecuación de movimiento de la masa 1:\n",
    "\n",
    "$$\n",
    "\\begin{align*}\n",
    "m_{1}\\ddot x_{1} & = \\sum F\\\\\n",
    "m_{1}\\ddot x_{1} & = f_{1}(t) + k_{2} (x_{2}-x_{1}) - k_{1}x_{1} \\\\\n",
    "m_{1}\\ddot x_{1} + (k_{1} + k_{2})x_{1} - k_{2}x_{2} & = f_{1}(t)\n",
    "\\end{align*}\n",
    "$$\n",
    "\n",
    "### Ecuación de movimiento de la masa 2:\n",
    "\n",
    "$$\n",
    "\\begin{align*}\n",
    "m_{2}\\ddot x_{2} & = - k_{2} (x_{2}-x_{1})\\\\\n",
    "m_{2}\\ddot x_{2} + k_{2}(x_{2}-x_{1}) & = 0\n",
    "\\end{align*}\n",
    "$$\n",
    "\n",
    "### Ecuaciones de movimiento en forma de matrices:\n",
    "$$\n",
    "{\\underbrace{\\begin{bmatrix}\n",
    "m_{1} & 0\\\\\n",
    "0 & m_{2}\n",
    "\\end{bmatrix}}_{\\text{matriz de masa}}}\n",
    "\\cdot{\\overbrace{\\begin{bmatrix}\n",
    "\\ddot x_{1} \\\\\n",
    "\\ddot x_{2}\n",
    "\\end{bmatrix}}^{\\text{vector de aceleración}}}\n",
    "+ {\\underbrace{\\begin{bmatrix}\n",
    "k_{1} + k_{2} & -k_{2}\\\\\n",
    "-k_{2} & k_{2}\n",
    "\\end{bmatrix}}_{\\text{matriz de rigidez}}}\\cdot{\\overbrace{\\begin{bmatrix}x_{1} \\\\\n",
    "x_{2}\n",
    "\\end{bmatrix}}^{\\text{vector de desplazamiento}}}={\\overbrace{\\begin{bmatrix}f_{1} \\\\\n",
    "0\n",
    "\\end{bmatrix}}^{\\text{vector de fuerza}}}\n",
    "$$\n",
    "\n",
    "+ Generalmente, se escribe una forma resumida como:\n",
    "$$\n",
    "\\begin{align*}\n",
    "M\\,\\ddot{\\bf{x}}(t)+K\\,{\\bf{x}}(t) &= {\\bf{F}}(t)\n",
    "\\end{align*}\n",
    "$$\n",
    "\n",
    "### Aplicar transformada de Fourier:\n",
    "+ Aplicar la transformada de Fourier a la representación matricial y demostrar que:\n",
    "\n",
    "$$\n",
    "\\begin{align*}\n",
    "\\left|H_{1}(\\omega)\\right| & = \\frac{X_{1}(\\omega)}{F_{1}(\\omega)}\\\\\n",
    "              & = \\frac{k_{2}-m_{2}\\omega^{2}}{(k_{1}+k_{2}-m_{1}\\omega^{2})(k_{2}-m_{2}\\omega^{2})-k_{2}^{2}}\n",
    "\\end{align*}\n",
    "$$\n",
    "\n",
    "$$\n",
    "\\begin{align*}\n",
    "\\left|H_{2}(\\omega)\\right| & = \\frac{X_{2}(\\omega)}{F_{1}(\\omega)}\\\\\n",
    "              & = \\frac{k_{2}}{(k_{1}+k_{2}-m_{1}\\omega^{2})(k_{2}-m_{2}\\omega^{2})-k_{2}^{2}}\n",
    "\\end{align*}\n",
    "$$\n",
    "\n",
    "+ Es costumbre introducir $\\mu$ como una razón entre la masa del absortor y la masa principal $m_{1}$:\n",
    "\n",
    "$$\n",
    "\\begin{align*}\n",
    "\\mu&=\\frac{m_{2}}{m_{1}}\n",
    "\\end{align*}\n",
    "$$\n",
    "\n",
    "de la cual,\n",
    "$$\n",
    "\\begin{align*}\n",
    "\\frac{k_{2}}{k_{1}} &=\\mu \\left(\\frac{\\omega_{2}}{\\omega_{1}}\\right)^{2}\n",
    "\\end{align*}\n",
    "$$\n",
    "\n",
    "\n",
    "+ Demostrar que:\n",
    "\n",
    "$$\n",
    "\\begin{align}\n",
    "\\frac{X_{1}(\\omega)}{\\left(\\frac{F_{1}(\\omega)}{k_{1}}\\right)} & = \\frac{1-\\left( \\frac{\\omega}{\\omega_{2}}\\right) ^2}{\\left[1+\\mu\\left( \\frac{\\omega_{2}}{\\omega_{1}}\\right)^2 - \\left( \\frac{\\omega}{\\omega_{1}}\\right)^2\\right]\\left[ 1- \\left( \\frac{\\omega}{\\omega_{2}}\\right)^2 \\right] - \\mu \\left( \\frac{\\omega_{2}}{\\omega_{1}}\\right)^2}\n",
    "\\end{align}\n",
    "$$\n",
    "\n",
    "y que se cumple además, que:\n",
    "\n",
    "$$\n",
    "\\begin{align}\n",
    "\\frac{X_{2}(\\omega)}{\\left(\\frac{F_{1}(\\omega)}{k_{1}}\\right)} & = \\frac{1}{\\left[1+\\mu\\left( \\frac{\\omega_{2}}{\\omega_{1}}\\right)^2 - \\left( \\frac{\\omega}{\\omega_{1}}\\right)^2\\right]\\left[ 1- \\left( \\frac{\\omega}{\\omega_{2}}\\right)^2 \\right] - \\mu \\left( \\frac{\\omega_{2}}{\\omega_{1}}\\right)^2}\n",
    "\\end{align}\n",
    "$$\n",
    "\n",
    "\n",
    "+ Como queremos reducir la vibración de $X_{1}(\\omega)$, eso implica que podemos igualar a cero el numerador en la Ec. (1):\n",
    "\n",
    "$$\n",
    "\\begin{align*}\n",
    "\\omega &= \\omega_{2}\n",
    "\\end{align*}\n",
    "$$\n",
    "\n",
    "+ Así, para $\\omega = \\omega_{2},$ la Ec. (2) se reduce a:\n",
    "\n",
    "$$\n",
    "\\begin{align*}\n",
    "X_{2}(\\omega) &= -\\left(\\frac{\\omega_{1}}{\\omega_{2}}\\right)^{2}\\,\\frac{\\left(\\frac{F_{1}(\\omega)}{k_{1}}\\right)}{\\mu}= -\\frac{F_{1}(\\omega)}{k_{2}}\n",
    "\\end{align*}\n",
    "$$\n",
    "\n",
    "+ Esto significa que la fuerza que ejerce el resorte del absortor (dada por $k_{2}X_{2}(\\omega)$) sobre la masa principal, es igual y de signo opuesto a la fuerza aplicada originalmente de tal manera que la neutraliza. \n"
   ]
  },
  {
   "cell_type": "markdown",
   "metadata": {},
   "source": [
    "### Comportamiento con el absortor dinámico de vibraciones"
   ]
  },
  {
   "cell_type": "code",
   "execution_count": null,
   "metadata": {},
   "outputs": [],
   "source": [
    "m2   = 200.0\n",
    "k2   = 4000.0\n",
    "w2   = np.sqrt(k2/m2)\n",
    "\n",
    "mu   = (k2/k1)*(w1**2/w2**2)\n",
    "#print(mu)\n",
    "\n",
    "H2   = (1- (w/w2)**2)/((1 + mu*(w2/w1)**2 - (w/w2)**2)*(1 - (w/w2)**2) - mu*(w2/w1)**2)\n",
    "create_fig2(w2,w,H2)\n",
    "\n",
    "create_fig3(w1,w,H1,H2)"
   ]
  },
  {
   "cell_type": "markdown",
   "metadata": {},
   "source": [
    "### Dos frecuencias resonantes\n",
    "+ El absortor dinámico introduce dos frecuencias resonantes $\\Omega_{1}$ y $\\Omega_{2}$, en las cuales las amplitudes son infinitas. \n",
    "\n",
    "+ Obtener estas dos frecuencia e indicarlas en la gráfica."
   ]
  },
  {
   "cell_type": "code",
   "execution_count": null,
   "metadata": {},
   "outputs": [],
   "source": []
  }
 ],
 "metadata": {
  "kernelspec": {
   "display_name": "acus125_book",
   "language": "python",
   "name": "acus125_book"
  },
  "language_info": {
   "codemirror_mode": {
    "name": "ipython",
    "version": 3
   },
   "file_extension": ".py",
   "mimetype": "text/x-python",
   "name": "python",
   "nbconvert_exporter": "python",
   "pygments_lexer": "ipython3",
   "version": "3.9.4"
  }
 },
 "nbformat": 4,
 "nbformat_minor": 4
}
